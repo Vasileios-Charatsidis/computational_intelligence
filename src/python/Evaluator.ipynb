{
 "cells": [
  {
   "cell_type": "code",
   "execution_count": 12,
   "metadata": {
    "collapsed": false
   },
   "outputs": [
    {
     "name": "stdout",
     "output_type": "stream",
     "text": [
      "Using matplotlib backend: TkAgg\n",
      "Populating the interactive namespace from numpy and matplotlib\n"
     ]
    },
    {
     "name": "stderr",
     "output_type": "stream",
     "text": [
      "WARNING: pylab import has clobbered these variables: ['random']\n",
      "`%matplotlib` prevents importing * from pylab and numpy\n"
     ]
    }
   ],
   "source": [
    ""
   ]
  },
  {
   "cell_type": "code",
   "execution_count": 36,
   "metadata": {
    "collapsed": true
   },
   "outputs": [],
   "source": [
    "torcs_kill = 'killall torcs-bin'\n",
    "torcs_cmd = 'torcs -nofuel -nodamage -t 500000 -r %s '\n",
    "driver_cmd = 'java -jar torcs.jar'\n",
    "\n",
    "race_xml = 'quickrace.xml'\n",
    "\n",
    "trackTemplate = '<section name=\"%%IDX%%\"><attstr name=\"name\" val=\"%%TRACK_NAME%%\"/><attstr name=\"category\" val=\"%%TRACK_TYPE%%\"/></section>'\n",
    "\n",
    "tracks = [(\"dirt-1\",\"dirt\"),(\"dirt-2\",\"dirt\"),(\"dirt-3\",\"dirt\"),(\"dirt-4\",\"dirt\"),(\"dirt-5\",\"dirt\"),(\"dirt-6\",\"dirt\"),(\"mixed-1\",\"dirt\"),\n",
    "(\"mixed-2\",\"dirt\"),(\"b-speedway\",\"oval\"),(\"c-speedway\",\"oval\"),(\"d-speedway\",\"oval\"),(\"e-speedway\",\"oval\"),(\"e-track-5\",\"oval\"),(\"f-speedway\", \"oval\"),(\"g-speedway\",\"oval\"),(\"michigan\",\"oval\"),(\"aalborg\",\"road\"),\n",
    "(\"brondehach\",\"road\"),(\"g-track-1\",\"road\"),(\"ole-road-1\",\"road\"),(\"e-track-4\",\"road\"),(\"street-1\",\"road\"),(\"alpine-1\",\"road\"),\n",
    "(\"corkscrew\",\"road\"),(\"e-track-2\",\"road\"),(\"e-track-6\",\"road\"),(\"g-track-2\",\"road\"),\n",
    "(\"ruudskogen\",\"road\"),(\"wheel-1\",\"road\"),(\"alpine-2\",\"road\"),(\"eroad\",\"road\"),\n",
    "(\"e-track-3\",\"road\"),(\"forza\",\"road\"),(\"g-track-3\",\"road\"),(\"wheel-2\",\"road\"),(\"spring\",\"road\")]"
   ]
  },
  {
   "cell_type": "code",
   "execution_count": 45,
   "metadata": {
    "collapsed": false
   },
   "outputs": [],
   "source": [
    "def getTrackCmd(i, trackName, trackType):\n",
    "    return trackTemplate.replace(\"%%TRACK_NAME%%\", trackName).replace(\"%%TRACK_TYPE%%\", trackType).replace('%%IDX%%', str(i+1))\n",
    "\n",
    "def generateXML():\n",
    "    path = \"./track.xml.tmpl\"\n",
    "    \n",
    "    tracks_xml = ''\n",
    "    picks = np.random.choice(range(len(tracks)), 5, replace=False)\n",
    "    for i,t in enumerate(picks):\n",
    "        tracks_xml += getTrackCmd(i, tracks[t][0], tracks[t][1]) + '\\n'\n",
    "    \n",
    "    \n",
    "    with open(path, \"r\") as f:\n",
    "        content = f.read()\n",
    "    f.close()\n",
    "\n",
    "    content = content.replace('%%TRACK%%', tracks_xml)\n",
    "                            \n",
    "    with open(race_xml, \"w\") as f:\n",
    "        f.write(content)\n",
    "    f.close()"
   ]
  },
  {
   "cell_type": "code",
   "execution_count": 46,
   "metadata": {
    "collapsed": false
   },
   "outputs": [],
   "source": [
    "generateXML()"
   ]
  },
  {
   "cell_type": "code",
   "execution_count": 5,
   "metadata": {
    "collapsed": true
   },
   "outputs": [],
   "source": [
    "def start_torcs():\n",
    "    Popen([\"torcs\", \"-d -nofuel -nodamage -t 100000\", \"-r\", os.path.join(os.getcwd(),race_xml)])"
   ]
  },
  {
   "cell_type": "code",
   "execution_count": 7,
   "metadata": {
    "collapsed": false
   },
   "outputs": [],
   "source": [
    "def start_evaluation():\n",
    "        \n",
    "    generateXML()\n",
    "\n",
    "    start_torcs()\n",
    "\n",
    "    results = []\n",
    "    port, proc = (3002, Popen([driver_cmd], stdout=PIPE, stderr=PIPE))\n",
    "    notComplete = True\n",
    "    while driver_proc:\n",
    "        retcode = proc.poll()\n",
    "        if retcode is not None:\n",
    "            notComplete = False\n",
    "        else:\n",
    "            time.sleep(.1)\n",
    "\n",
    "        if retcode != 0 and retcode is not None:\n",
    "            #raise RuntimeError(proc.stderr.read())\n",
    "            print(proc.stderr.read())\n",
    "        if retcode == 0:    \n",
    "            results.append(proc.stdout.read())\n",
    "\n",
    "    usefulres = []\n",
    "    for res in results:\n",
    "        if 'laptime' in res:\n",
    "            print res\n",
    "            usefulres.append(res)\n",
    "                \n",
    "    return usefulres"
   ]
  },
  {
   "cell_type": "code",
   "execution_count": null,
   "metadata": {
    "collapsed": true
   },
   "outputs": [],
   "source": [
    "# Runs driver and torcs and reads from cmd"
   ]
  }
 ],
 "metadata": {
  "kernelspec": {
   "display_name": "Python 2",
   "language": "python",
   "name": "python2"
  },
  "language_info": {
   "codemirror_mode": {
    "name": "ipython",
    "version": 2
   },
   "file_extension": ".py",
   "mimetype": "text/x-python",
   "name": "python",
   "nbconvert_exporter": "python",
   "pygments_lexer": "ipython2",
   "version": "2.7.12"
  }
 },
 "nbformat": 4,
 "nbformat_minor": 0
}
