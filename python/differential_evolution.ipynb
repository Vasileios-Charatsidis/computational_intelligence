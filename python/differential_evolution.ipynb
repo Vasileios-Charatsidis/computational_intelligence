{
 "cells": [
  {
   "cell_type": "code",
   "execution_count": null,
   "metadata": {},
   "outputs": [],
   "source": [
    "%pylab\n",
    "import pandas as pd\n",
    "import random\n",
    "import os\n",
    "from subprocess import Popen, PIPE\n",
    "import subprocess\n",
    "\n",
    "from scipy.optimize import differential_evolution\n",
    "import numpy as np"
   ]
  },
  {
   "cell_type": "code",
   "execution_count": null,
   "metadata": {
    "collapsed": true
   },
   "outputs": [],
   "source": [
    "torcs_kill = 'killall torcs'\n",
    "driver_cmd = 'java -cp .:torcs.jar main.Client --port:3002 --maxEpisodes:1'\n",
    "\n",
    "race_xml = 'quickrace.xml'\n",
    "\n",
    "trackTemplate = '<section name=\"%%IDX%%\"><attstr name=\"name\" val=\"%%TRACK_NAME%%\"/><attstr name=\"category\" val=\"%%TRACK_TYPE%%\"/></section>'\n",
    "\n",
    "tracks = [(\"dirt-1\",\"dirt\"),(\"dirt-2\",\"dirt\"),(\"dirt-3\",\"dirt\"),(\"dirt-4\",\"dirt\"),(\"dirt-5\",\"dirt\"),(\"dirt-6\",\"dirt\"),(\"mixed-1\",\"dirt\"),\n",
    "          (\"mixed-2\",\"dirt\"),(\"b-speedway\",\"oval\"),(\"c-speedway\",\"oval\"),(\"d-speedway\",\"oval\"),(\"e-speedway\",\"oval\"),(\"e-track-5\",\"oval\"),\n",
    "          (\"f-speedway\", \"oval\"),(\"g-speedway\",\"oval\"),(\"michigan\",\"oval\"),(\"aalborg\",\"road\"),\n",
    "          (\"brondehach\",\"road\"),(\"g-track-1\",\"road\"),(\"ole-road-1\",\"road\"),(\"e-track-4\",\"road\"),(\"street-1\",\"road\"),(\"alpine-1\",\"road\"),\n",
    "          (\"corkscrew\",\"road\"),(\"e-track-2\",\"road\"),(\"e-track-6\",\"road\"),(\"g-track-2\",\"road\"),\n",
    "          (\"ruudskogen\",\"road\"),(\"wheel-1\",\"road\"),(\"alpine-2\",\"road\"),(\"eroad\",\"road\"),\n",
    "          (\"e-track-3\",\"road\"),(\"forza\",\"road\"),(\"g-track-3\",\"road\"),(\"wheel-2\",\"road\")]"
   ]
  },
  {
   "cell_type": "code",
   "execution_count": null,
   "metadata": {
    "collapsed": true
   },
   "outputs": [],
   "source": [
    "def getTrackCmd(i, trackName, trackType):\n",
    "    return trackTemplate.replace(\"%%TRACK_NAME%%\", trackName).replace(\"%%TRACK_TYPE%%\", trackType).replace('%%IDX%%', str(i+1))\n",
    "\n",
    "def generateXML():\n",
    "    path = \"./track.xml.tmpl\"\n",
    "\n",
    "    tracks_xml = ''\n",
    "    picks = np.random.choice(range(len(tracks)), 1, replace=False)\n",
    "    for i,t in enumerate(picks):\n",
    "        tracks_xml += getTrackCmd(i, tracks[t][0], tracks[t][1]) + '\\n'\n",
    "\n",
    "\n",
    "    with open(path, \"r\") as f:\n",
    "        content = f.read()\n",
    "    f.close()\n",
    "\n",
    "    content = content.replace('%%TRACK%%', tracks_xml)\n",
    "\n",
    "    with open(race_xml, \"w\") as f:\n",
    "        f.write(content)\n",
    "    f.close()\n"
   ]
  },
  {
   "cell_type": "code",
   "execution_count": null,
   "metadata": {},
   "outputs": [],
   "source": [
    "def start_torcs():\n",
    "    os.system(torcs_kill)\n",
    "    \n",
    "#     print \"torcs -nofuel -nodamage -t 10000 -r %s\" % os.path.join(os.getcwd(),race_xml)\n",
    "    p = Popen('torcs -nofuel -nodamage -t 5000 -r /home/dana/Desktop/computational_intelligence/sociopathsubmission/torcs/python/quickrace.xml', \n",
    "          shell=True)\n",
    "    \n",
    "\n",
    "# start_torcs()\n",
    "    "
   ]
  },
  {
   "cell_type": "code",
   "execution_count": null,
   "metadata": {
    "collapsed": true
   },
   "outputs": [],
   "source": [
    "def start_evaluation():\n",
    "\n",
    "    generateXML()\n",
    "\n",
    "#     print 'Starting TORCS'\n",
    "    start_torcs()\n",
    "\n",
    "    results = []\n",
    "    \n",
    "#     print 'Starting Controller'\n",
    "    p = subprocess.Popen(driver_cmd.split(\" \"), stdout=subprocess.PIPE, \n",
    "                         cwd='/home/dana/Desktop/computational_intelligence/sociopathsubmission/torcs/out/artifacts/torcs_jar')\n",
    "    out, err = p.communicate()\n",
    "    \n",
    "    if(err):\n",
    "        print err\n",
    "\n",
    "    usefulres = 0;\n",
    "    for res in out:\n",
    "        if 'LapPosition' in res:\n",
    "            usefulres = res.split()[1]\n",
    "            print usefulres\n",
    "\n",
    "    return usefulres"
   ]
  },
  {
   "cell_type": "code",
   "execution_count": null,
   "metadata": {
    "collapsed": true
   },
   "outputs": [],
   "source": [
    "def evaluate_driver(car_params):\n",
    "    # Creates car with input parameters, executes jar file and return average final racePos over \n",
    "    # randomly selected tracks as car fitness\n",
    "\n",
    "    np.savetxt(\"./parameters.txt\", np.array(car_params).reshape(-1,1).T, delimiter=\",\")\n",
    "\n",
    "    return start_evaluation()"
   ]
  },
  {
   "cell_type": "code",
   "execution_count": null,
   "metadata": {
    "scrolled": true
   },
   "outputs": [],
   "source": [
    "# Sets search space for the car parameters. Chosen close to COBOSTAR and Jonas' params for fast convergence.\n",
    "init_params = [ 50.0,2,125.0,240.0,5.0,10.0,0.0,0.0,8.0,0,2.6,0,1.0,0.7,1.0,1,0,10.0,0.392,0.150,117.5,123.6,34.56,2.03,73.3,150.0,-500.0,200.0,43.23,1.99,104.76,9.38,907.6,1.92,11.89,1.13,0.70,0.39,36.50,97.33,0.0,0.0,0.5,0.5,0.5,0.5]\n",
    "\n",
    "print len(init_params)\n",
    "# Sets boundaries within 10% range\n",
    "bounds = []\n",
    "for val in init_params:\n",
    "    if val == 0:\n",
    "        bounds.append((0.0,10.0))\n",
    "    else:\n",
    "        bounds.append((val*0.9, val*1.1))\n",
    "\n",
    "# Runs differential evolution on the car parameters within specified boundaries\n",
    "result = differential_evolution(evaluate_driver, bounds, strategy='best1bin',\n",
    "                                maxiter=5, popsize=4, tol=0.01,\n",
    "                                mutation=(0.5, 1), recombination=0.2, seed=None,\n",
    "                                callback=None, disp=True, polish=True,\n",
    "                                init='latinhypercube')\n",
    "\n",
    "# Prints best found car parameters and objective function\n",
    "print result"
   ]
  }
 ],
 "metadata": {
  "anaconda-cloud": {},
  "kernelspec": {
   "display_name": "Python [conda root]",
   "language": "python",
   "name": "conda-root-py"
  },
  "language_info": {
   "codemirror_mode": {
    "name": "ipython",
    "version": 3
   },
   "file_extension": ".py",
   "mimetype": "text/x-python",
   "name": "python",
   "nbconvert_exporter": "python",
   "pygments_lexer": "ipython3",
   "version": "3.6.1"
  },
  "toc": {
   "nav_menu": {},
   "number_sections": true,
   "sideBar": true,
   "skip_h1_title": false,
   "toc_cell": false,
   "toc_position": {},
   "toc_section_display": "block",
   "toc_window_display": false
  },
  "varInspector": {
   "cols": {
    "lenName": 16,
    "lenType": 16,
    "lenVar": 40
   },
   "kernels_config": {
    "python": {
     "delete_cmd_postfix": "",
     "delete_cmd_prefix": "del ",
     "library": "var_list.py",
     "varRefreshCmd": "print(var_dic_list())"
    },
    "r": {
     "delete_cmd_postfix": ") ",
     "delete_cmd_prefix": "rm(",
     "library": "var_list.r",
     "varRefreshCmd": "cat(var_dic_list()) "
    }
   },
   "types_to_exclude": [
    "module",
    "function",
    "builtin_function_or_method",
    "instance",
    "_Feature"
   ],
   "window_display": false
  }
 },
 "nbformat": 4,
 "nbformat_minor": 1
}
